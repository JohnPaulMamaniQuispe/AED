{
  "nbformat": 4,
  "nbformat_minor": 0,
  "metadata": {
    "colab": {
      "name": "Untitled1.ipynb",
      "private_outputs": true,
      "provenance": [],
      "collapsed_sections": [],
      "authorship_tag": "ABX9TyMo7g9h6OsJefxFKpyLzJj8",
      "include_colab_link": true
    },
    "kernelspec": {
      "name": "python3",
      "display_name": "Python 3"
    },
    "language_info": {
      "name": "python"
    }
  },
  "cells": [
    {
      "cell_type": "markdown",
      "metadata": {
        "id": "view-in-github",
        "colab_type": "text"
      },
      "source": [
        "<a href=\"https://colab.research.google.com/github/JohnPaulupc/AED/blob/main/Untitled1.ipynb\" target=\"_parent\"><img src=\"https://colab.research.google.com/assets/colab-badge.svg\" alt=\"Open In Colab\"/></a>"
      ]
    },
    {
      "cell_type": "code",
      "source": [
        "%%writefile ordenamientos.hpp\n",
        "template<typename T>\n",
        "void swap(T*a, T*b){\n",
        "  T t=*a;\n",
        "  *a=*b;\n",
        "  *b=t;\n",
        "}\n",
        "template<typename T>\n",
        "void bubbleSort(T*arr, unsigned int n, function<bool(T,T)>cmp){ \n",
        "  for(size_t i=0; i<n-1;i++){\n",
        "    for(size_t j=0;j<n-1-i;j++){\n",
        "      if(cmp(arr[j],arr[j+1])){\n",
        "        swap(&arr[j],&arr[j+1]);\n",
        "        }\n",
        "    }\n",
        "}\n",
        "}\n",
        "template<typename T>\n",
        "void exchangeSort(T*arr, unsigned int n, function<bool(T,T)>cmp){ \n",
        "  for(size_t i=0; i<n-1;i++){\n",
        "    for(size_t j=i+1;j<n;j++){\n",
        "      if(cmp(arr[i],arr[j])){\n",
        "        swap(&arr[i],&arr[j]);\n",
        "        }\n",
        "    }\n",
        "}\n",
        "}\n",
        "template<typename T>\n",
        "void show(T*arr, unsigned int n, function<void(T)> lqs){ \n",
        "  for(size_t i=0; i<n;i++){\n",
        "        lqs(arr[i]);\n",
        "  }\n",
        "}"
      ],
      "metadata": {
        "id": "aL1xqI2YQ4TK"
      },
      "execution_count": null,
      "outputs": []
    },
    {
      "cell_type": "code",
      "source": [
        "%%writefile repaso.cpp\n",
        "#include <iostream>\n",
        "#include <functional>\n",
        "#include<ctime>\n",
        "#include <fstream>\n",
        "using namespace std;\n",
        "#include \"ordenamientos.hpp\"\n",
        "void test01(){\n",
        "   srand(time(0));    \n",
        "  int* arr = new int [100];\n",
        "  for (size_t i=0; i<100;i++){\n",
        "    arr[i] = rand() % 200 + 1;\n",
        "  }\n",
        "  auto l1=[](int e){cout<<e<<\" \";};\n",
        "  show<int>(arr,100,l1);\n",
        "  cout<<endl;\n",
        "  bubbleSort<int>(arr,100,[](int a, int b){   return a>b;}); \n",
        "  \n",
        "  show<int>(arr,100,l1);\n",
        "}\n",
        "void test02(){\n",
        "    string* arr = new string [7];\n",
        "      arr[0]=\"Miguel\";\n",
        "      arr[1]=\"Ana\";\n",
        "      arr[2]=\"Cesar\";\n",
        "      arr[3]=\"Fidel\";\n",
        "      arr[4]=\"William\";\n",
        "      arr[5]=\"Wilder\";\n",
        "      arr[6]=\"Wilson\";      \n",
        "    auto l1=[](string e){cout<<e<<\" \";};\n",
        "    show<string>(arr,7,l1);\n",
        "    cout<<endl;\n",
        "    bubbleSort<string>(arr,7,[](string a, string b){return a.compare(b)>0;});\n",
        "    show<string>(arr,7,l1);\n",
        "}\n",
        "struct Paciente{\n",
        "    string nombre;\n",
        "    long dni;\n",
        "    float temperatura;\n",
        "    char asegurado;\n",
        "    Paciente(string n=\"\",long d=0l, float t=0.0f,char a=' '):nombre(n),dni(d), temperatura(t),asegurado(a){}    \n",
        "};\n",
        "void toString(Paciente p){\n",
        "    cout<<p.nombre<<\"\\t\"<<p.dni<<\"\\t\"<<p.temperatura<<\"\\t\"<<p.asegurado<<endl;\n",
        "}\n",
        "void test03(){\n",
        "    Paciente* pacientes=new Paciente[5];\n",
        "    pacientes[0]=Paciente(\"Juan\",10315678,28.9,'S');\n",
        "    pacientes[1]=Paciente(\"Ana\",12345987,26.4,'N');\n",
        "    pacientes[2]=Paciente(\"Fidel\",12378456,27.1,'S');\n",
        "    pacientes[3]=Paciente(\"Alberto\",45678789,28.2,'N');\n",
        "    pacientes[4]=Paciente(\"Sofia\",45678456,27.6,'S');\n",
        "    show<Paciente>(pacientes,5,toString);\n",
        "    cout<<\"\\nOrdenando por Nombres\"<<endl;\n",
        "    bubbleSort<Paciente>(pacientes,5,[](Paciente a, Paciente b){return a.nombre.compare(b.nombre)>0;});\n",
        "    show<Paciente>(pacientes,5,toString);\n",
        "    cout<<\"\\nOrdenando por DNI\"<<endl;\n",
        "    exchangeSort<Paciente>(pacientes,5,[](Paciente a, Paciente b){return a.dni>b.dni;});\n",
        "    show<Paciente>(pacientes,5,toString);\n",
        "    cout<<\"\\nOrdenando por temperatura\"<<endl;\n",
        "    bubbleSort<Paciente>(pacientes,5,[](Paciente a, Paciente b){return a.temperatura>b.temperatura;});\n",
        "    show<Paciente>(pacientes,5,toString);\n",
        "    cout<<\"\\nOrdenando por estado\"<<endl;\n",
        "    bubbleSort<Paciente>(pacientes,5,[](Paciente a, Paciente b){return a.asegurado>b.asegurado;});\n",
        "    show<Paciente>(pacientes,5,toString);\n",
        "\n",
        "\n",
        "\n",
        "    std::ofstream arch(\"Pacientes.tsv\");\n",
        "\n",
        "    for(size_t i=0;i<5;++i){\n",
        "        Paciente p=pacientes[i];\n",
        "        arch<<p.nombre<<\"\\t\"<<p.dni<<\"\\t\"<<p.temperatura<<\"\\t\"<<p.asegurado<<endl;\n",
        "    }\n",
        "        \n",
        "    arch.close();    \n",
        "    \n",
        "}\n",
        "int main(){\n",
        "    \n",
        "   test03();\n",
        "\n",
        "return 0;\n",
        "}"
      ],
      "metadata": {
        "id": "YK2gaQ_llqsA"
      },
      "execution_count": null,
      "outputs": []
    },
    {
      "cell_type": "code",
      "source": [
        ""
      ],
      "metadata": {
        "id": "PUx0gQ1xIDZ7"
      },
      "execution_count": null,
      "outputs": []
    },
    {
      "cell_type": "code",
      "source": [
        "!g++ repaso.cpp && ./a.out"
      ],
      "metadata": {
        "id": "n0cw2y7qQly9"
      },
      "execution_count": null,
      "outputs": []
    }
  ]
}